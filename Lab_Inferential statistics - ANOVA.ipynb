{
 "cells": [
  {
   "cell_type": "markdown",
   "id": "1907a26a",
   "metadata": {},
   "source": [
    "# Part 1"
   ]
  },
  {
   "cell_type": "markdown",
   "id": "792993f7",
   "metadata": {},
   "source": [
    "In this activity, we will look at another example. Your task is to understand the problem and write down all the steps to set up ANOVA. After the next lesson, we will ask you to solve this problem using Python. Here are the steps that you would need to work on: - Null hypothesis - Alternate hypothesis - Level of significance - Test statistic - P-value - F table"
   ]
  },
  {
   "cell_type": "markdown",
   "id": "f998fe85",
   "metadata": {},
   "source": [
    "### Context"
   ]
  },
  {
   "cell_type": "markdown",
   "id": "3414948e",
   "metadata": {},
   "source": [
    "Suppose you are working as an analyst in a microprocessor chip manufacturing plant. You have been given the task of analyzing a plasma etching process with respect to changing Power (in Watts) of the plasma beam. Data was collected and provided to you to conduct statistical analysis and check if changing the power of the plasma beam has any effect on the etching rate by the machine. You will conduct ANOVA and check if there is any difference in the mean etching rate for different levels of power. You can find the data anova_lab_data.xlsx file in the files_for_lab folder"
   ]
  },
  {
   "cell_type": "markdown",
   "id": "301b0873",
   "metadata": {},
   "source": [
    "* State the null hypothesis\n",
    "* State the alternate hypothesis\n",
    "* What is the significance level\n",
    "* What are the degrees of freedom of model, error terms, and total DoF"
   ]
  },
  {
   "cell_type": "code",
   "execution_count": null,
   "id": "776bb2d1",
   "metadata": {},
   "outputs": [],
   "source": [
    "# State the null hypothesis"
   ]
  },
  {
   "cell_type": "markdown",
   "id": "4058f7bb",
   "metadata": {},
   "source": [
    "$H_{0}$: Changing the power of the plasma beam has NO effect on the etching rate by the machine.  "
   ]
  },
  {
   "cell_type": "code",
   "execution_count": 6,
   "id": "198c92b9",
   "metadata": {},
   "outputs": [],
   "source": [
    "# State the alternate hypothesis"
   ]
  },
  {
   "cell_type": "markdown",
   "id": "9452728f",
   "metadata": {},
   "source": [
    "$H_{1}$: Changing the power of the plasma beam has effect on the etching rate by the machine"
   ]
  },
  {
   "cell_type": "code",
   "execution_count": null,
   "id": "8047b4f4",
   "metadata": {},
   "outputs": [],
   "source": [
    "# What is the significance level"
   ]
  },
  {
   "cell_type": "markdown",
   "id": "bb9bfec9",
   "metadata": {},
   "source": [
    "It's the probability of reject the Null Hypothesis (H0) been this one true. Mostly of the cases we use a significance level of 0.05"
   ]
  },
  {
   "cell_type": "code",
   "execution_count": null,
   "id": "8d114a50",
   "metadata": {},
   "outputs": [],
   "source": [
    "# What are the degrees of freedom of model, error terms, and total DoF"
   ]
  },
  {
   "cell_type": "markdown",
   "id": "f8c2832f",
   "metadata": {},
   "source": [
    "1. **Degrees of freedom of model**:  nº of groups - 1 --> 2 - 1 = 1\n",
    "    \n",
    "2. **Error terms**: nº of samples - nº of groups --> 15 - 2 = 13\n",
    "    \n",
    "3. **Total Degree of Freedom**:  nº of samples - 1 --> 15 - 1 = 14"
   ]
  },
  {
   "cell_type": "markdown",
   "id": "e77e9aa1",
   "metadata": {},
   "source": [
    "# Part 2"
   ]
  },
  {
   "cell_type": "markdown",
   "id": "4e808d8c",
   "metadata": {},
   "source": [
    "* In this section, use Python to conduct ANOVA.\n",
    "* What conclusions can you draw from the experiment and why?"
   ]
  },
  {
   "cell_type": "code",
   "execution_count": 2,
   "id": "70cd12f8",
   "metadata": {},
   "outputs": [],
   "source": [
    "import scikit_posthocs as sp\n",
    "import numpy as np\n",
    "from scipy import stats\n",
    "import pandas as pd\n",
    "pd.options.display.float_format = '{:,.4f}'.format\n",
    "import os"
   ]
  },
  {
   "cell_type": "code",
   "execution_count": 5,
   "id": "aa3bbcd2",
   "metadata": {},
   "outputs": [
    {
     "data": {
      "text/html": [
       "<div>\n",
       "<style scoped>\n",
       "    .dataframe tbody tr th:only-of-type {\n",
       "        vertical-align: middle;\n",
       "    }\n",
       "\n",
       "    .dataframe tbody tr th {\n",
       "        vertical-align: top;\n",
       "    }\n",
       "\n",
       "    .dataframe thead th {\n",
       "        text-align: right;\n",
       "    }\n",
       "</style>\n",
       "<table border=\"1\" class=\"dataframe\">\n",
       "  <thead>\n",
       "    <tr style=\"text-align: right;\">\n",
       "      <th></th>\n",
       "      <th>Power</th>\n",
       "      <th>Etching Rate</th>\n",
       "    </tr>\n",
       "  </thead>\n",
       "  <tbody>\n",
       "    <tr>\n",
       "      <th>0</th>\n",
       "      <td>160 W</td>\n",
       "      <td>5.4300</td>\n",
       "    </tr>\n",
       "    <tr>\n",
       "      <th>1</th>\n",
       "      <td>180 W</td>\n",
       "      <td>6.2400</td>\n",
       "    </tr>\n",
       "    <tr>\n",
       "      <th>2</th>\n",
       "      <td>200 W</td>\n",
       "      <td>8.7900</td>\n",
       "    </tr>\n",
       "    <tr>\n",
       "      <th>3</th>\n",
       "      <td>160 W</td>\n",
       "      <td>5.7100</td>\n",
       "    </tr>\n",
       "    <tr>\n",
       "      <th>4</th>\n",
       "      <td>180 W</td>\n",
       "      <td>6.7100</td>\n",
       "    </tr>\n",
       "    <tr>\n",
       "      <th>5</th>\n",
       "      <td>200 W</td>\n",
       "      <td>9.2000</td>\n",
       "    </tr>\n",
       "    <tr>\n",
       "      <th>6</th>\n",
       "      <td>160 W</td>\n",
       "      <td>6.2200</td>\n",
       "    </tr>\n",
       "    <tr>\n",
       "      <th>7</th>\n",
       "      <td>180 W</td>\n",
       "      <td>5.9800</td>\n",
       "    </tr>\n",
       "    <tr>\n",
       "      <th>8</th>\n",
       "      <td>200 W</td>\n",
       "      <td>7.9000</td>\n",
       "    </tr>\n",
       "    <tr>\n",
       "      <th>9</th>\n",
       "      <td>160 W</td>\n",
       "      <td>6.0100</td>\n",
       "    </tr>\n",
       "    <tr>\n",
       "      <th>10</th>\n",
       "      <td>180 W</td>\n",
       "      <td>5.6600</td>\n",
       "    </tr>\n",
       "    <tr>\n",
       "      <th>11</th>\n",
       "      <td>200 W</td>\n",
       "      <td>8.1500</td>\n",
       "    </tr>\n",
       "    <tr>\n",
       "      <th>12</th>\n",
       "      <td>160 W</td>\n",
       "      <td>5.5900</td>\n",
       "    </tr>\n",
       "    <tr>\n",
       "      <th>13</th>\n",
       "      <td>180 W</td>\n",
       "      <td>6.6000</td>\n",
       "    </tr>\n",
       "    <tr>\n",
       "      <th>14</th>\n",
       "      <td>200 W</td>\n",
       "      <td>7.5500</td>\n",
       "    </tr>\n",
       "  </tbody>\n",
       "</table>\n",
       "</div>"
      ],
      "text/plain": [
       "   Power   Etching Rate\n",
       "0   160 W        5.4300\n",
       "1   180 W        6.2400\n",
       "2   200 W        8.7900\n",
       "3   160 W        5.7100\n",
       "4   180 W        6.7100\n",
       "5   200 W        9.2000\n",
       "6   160 W        6.2200\n",
       "7   180 W        5.9800\n",
       "8   200 W        7.9000\n",
       "9   160 W        6.0100\n",
       "10  180 W        5.6600\n",
       "11  200 W        8.1500\n",
       "12  160 W        5.5900\n",
       "13  180 W        6.6000\n",
       "14  200 W        7.5500"
      ]
     },
     "execution_count": 5,
     "metadata": {},
     "output_type": "execute_result"
    }
   ],
   "source": [
    "os.chdir(r'C:\\Users\\TrendingPC\\Desktop\\IronHAck\\LABS\\LABS-unit-7\\5.Inferential-statistics-anova\\files_for_lab')\n",
    "data = pd.read_excel('anova_lab_data.xlsx')\n",
    "data"
   ]
  },
  {
   "cell_type": "code",
   "execution_count": 19,
   "id": "78637537",
   "metadata": {},
   "outputs": [
    {
     "data": {
      "text/plain": [
       "Index(['Power ', 'Etching Rate'], dtype='object')"
      ]
     },
     "execution_count": 19,
     "metadata": {},
     "output_type": "execute_result"
    }
   ],
   "source": [
    "data.columns"
   ]
  },
  {
   "cell_type": "code",
   "execution_count": 27,
   "id": "a1d0aee5",
   "metadata": {},
   "outputs": [],
   "source": [
    "# Changing the type of the column Power to numerics\n",
    "\n",
    "data['Power '] = data['Power '].replace({' W':''}, regex=True)\n",
    "\n",
    "data['Power '] = pd.to_numeric(data['Power '])"
   ]
  },
  {
   "cell_type": "code",
   "execution_count": 34,
   "id": "ca45e74a",
   "metadata": {},
   "outputs": [],
   "source": [
    "# Converting the columns in arrays\n",
    "\n",
    "power = np.array(data['Power '])\n",
    "etch_rate =np.array(data['Etching Rate'])"
   ]
  },
  {
   "cell_type": "code",
   "execution_count": 39,
   "id": "6fcfc378",
   "metadata": {},
   "outputs": [
    {
     "data": {
      "text/plain": [
       "array([160, 180, 200, 160, 180, 200, 160, 180, 200, 160, 180, 200, 160,\n",
       "       180, 200], dtype=int64)"
      ]
     },
     "execution_count": 39,
     "metadata": {},
     "output_type": "execute_result"
    }
   ],
   "source": [
    "power"
   ]
  },
  {
   "cell_type": "code",
   "execution_count": 38,
   "id": "14ffd6ec",
   "metadata": {},
   "outputs": [
    {
     "name": "stdout",
     "output_type": "stream",
     "text": [
      "p value:0.0000\n",
      "Reject null hypothesis\n"
     ]
    }
   ],
   "source": [
    "# ANOVA test\n",
    "\n",
    "F, p_value = stats.f_oneway(power, etch_rate)\n",
    "print(\"p value:%.4f\" % p_value)\n",
    "if p_value <0.05:\n",
    "    print(\"Reject null hypothesis\")\n",
    "else:\n",
    "    print(\"Fail to reject null hypothesis\")"
   ]
  },
  {
   "cell_type": "code",
   "execution_count": 40,
   "id": "339c95d8",
   "metadata": {},
   "outputs": [],
   "source": [
    "# What conclusions can you draw from the experiment and why?"
   ]
  },
  {
   "cell_type": "markdown",
   "id": "3455c9f9",
   "metadata": {},
   "source": [
    "#### It can be concluded that the alternative hypothesis is the correct one so changing the power of the plasma beam has effect on the etching rate by the machine because after we did the ANOVA test the p-value is less than 0.05"
   ]
  },
  {
   "cell_type": "code",
   "execution_count": null,
   "id": "3e5b4de7",
   "metadata": {},
   "outputs": [],
   "source": []
  }
 ],
 "metadata": {
  "kernelspec": {
   "display_name": "Python 3 (ipykernel)",
   "language": "python",
   "name": "python3"
  },
  "language_info": {
   "codemirror_mode": {
    "name": "ipython",
    "version": 3
   },
   "file_extension": ".py",
   "mimetype": "text/x-python",
   "name": "python",
   "nbconvert_exporter": "python",
   "pygments_lexer": "ipython3",
   "version": "3.9.13"
  }
 },
 "nbformat": 4,
 "nbformat_minor": 5
}
